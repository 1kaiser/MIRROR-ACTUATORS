{
  "nbformat": 4,
  "nbformat_minor": 0,
  "metadata": {
    "colab": {
      "name": "🪞sin x - cos x .ipynb",
      "provenance": [],
      "collapsed_sections": [],
      "authorship_tag": "ABX9TyPKC+tYFZKYAxHqpxT8Nc4w",
      "include_colab_link": true
    },
    "kernelspec": {
      "name": "python3",
      "display_name": "Python 3"
    },
    "language_info": {
      "name": "python"
    }
  },
  "cells": [
    {
      "cell_type": "markdown",
      "metadata": {
        "id": "view-in-github",
        "colab_type": "text"
      },
      "source": [
        "<a href=\"https://colab.research.google.com/github/1kaiser/MIRROR-ACTUATORS/blob/main/%F0%9F%AA%9Esin_x_cos_x_.ipynb\" target=\"_parent\"><img src=\"https://colab.research.google.com/assets/colab-badge.svg\" alt=\"Open In Colab\"/></a>"
      ]
    },
    {
      "cell_type": "markdown",
      "source": [
        "testing sin x cos x"
      ],
      "metadata": {
        "id": "fsgSk3a4mJcQ"
      }
    },
    {
      "cell_type": "code",
      "source": [
        "\n",
        "def sin5q(x):\n",
        "        A = 6.28230858\n",
        "        B = -41.1693687\n",
        "        C = 74.4388885\n",
        "        x2 = x * x\n",
        "        return x * (A + x2 * (B + x2 * C))\n",
        "    \n",
        "def sin(x):\n",
        "        pi2 = 1 / (2 * 3.1415926535)\n",
        "        x_2 = 0.25 - x * pi2;\n",
        "        z = 0.25 - abs(x_2 - round(x_2))\n",
        "        print(sin5q(z))\n",
        "        return sin5q(z)\n",
        "    \n",
        "def cos(x):\n",
        "        pi2 = 1 / (2 * 3.1415926535)\n",
        "        x_2 = x * pi2\n",
        "        z = 0.25 - abs(x_2 - round(x_2))\n",
        "        print(sin5q(z))\n",
        "        return sin5q(z)\n",
        "  \n",
        "print(\"hello world\")\n",
        "\n",
        "   "
      ],
      "metadata": {
        "colab": {
          "base_uri": "https://localhost:8080/"
        },
        "id": "udfByU71WxCi",
        "outputId": "a99d8830-2ef0-419f-cb4e-b872fd5db2e7"
      },
      "execution_count": 34,
      "outputs": [
        {
          "output_type": "stream",
          "name": "stdout",
          "text": [
            "hello world\n"
          ]
        }
      ]
    },
    {
      "cell_type": "markdown",
      "source": [
        "trying to plot >>>>"
      ],
      "metadata": {
        "id": "b1FGzWUSk5kK"
      }
    },
    {
      "cell_type": "code",
      "source": [
        "import jax.numpy as jnp\n",
        "import matplotlib.pyplot as plt\n",
        "\n",
        "pi2 = 1 / (2 * 3.1415926535)\n",
        "%time cos(jnp.linspace(0,pi2,50))\n",
        "%time sin(jnp.linspace(0,pi2,50))\n",
        "a,b=jnp.sin(jnp.linspace(0,pi2*400,50)), sin(jnp.linspace(0,pi2,50))\n",
        "c,d=jnp.cos(jnp.linspace(0,pi2*400,50)), sin(jnp.linspace(0,pi2,50))\n",
        "e,f=jnp.cos(jnp.linspace(0,pi2*400,50)), cos(jnp.linspace(0,pi2,50))+sin(jnp.linspace(0,pi2,50))\n",
        "plt.scatter(a,b);"
      ],
      "metadata": {
        "colab": {
          "base_uri": "https://localhost:8080/",
          "height": 1000
        },
        "id": "uCUCgjzmaJlz",
        "outputId": "763fa9a5-167e-4ca6-f0fc-89a28c954371"
      },
      "execution_count": 53,
      "outputs": [
        {
          "output_type": "stream",
          "name": "stdout",
          "text": [
            "[1.         0.9999861  0.99996185 0.99992746 0.9998825  0.9998275\n",
            " 0.9997622  0.9996865  0.9996004  0.99950415 0.9993975  0.99928045\n",
            " 0.99915326 0.99901557 0.9988676  0.9987093  0.99854064 0.9983617\n",
            " 0.99817234 0.9979727  0.9977627  0.9975425  0.9973117  0.99707067\n",
            " 0.9968194  0.99655765 0.99628556 0.9960032  0.99571043 0.9954072\n",
            " 0.9950938  0.99477005 0.99443597 0.9940914  0.9937365  0.9933713\n",
            " 0.9929958  0.9926099  0.9922136  0.9918071  0.99139017 0.99096286\n",
            " 0.99052536 0.9900773  0.9896191  0.9891505  0.9886716  0.9881823\n",
            " 0.98768276 0.9871728 ]\n",
            "CPU times: user 2.34 ms, sys: 1.08 ms, total: 3.42 ms\n",
            "Wall time: 9.38 ms\n",
            "[0.         0.00324764 0.00649515 0.00974269 0.01299003 0.01623733\n",
            " 0.01948437 0.02273129 0.02597798 0.0292243  0.0324704  0.03571607\n",
            " 0.03896146 0.04220634 0.04545088 0.04869494 0.05193839 0.05518139\n",
            " 0.05842372 0.06166552 0.06490669 0.06814707 0.07138683 0.07462575\n",
            " 0.07786398 0.08110129 0.08433785 0.08757351 0.09080817 0.09404197\n",
            " 0.09727468 0.10050647 0.1037371  0.10696673 0.11019525 0.11342251\n",
            " 0.11664868 0.11987352 0.1230972  0.12631959 0.12954055 0.13276026\n",
            " 0.13597846 0.13919532 0.14241065 0.14562455 0.14883684 0.15204766\n",
            " 0.15525687 0.15846436]\n",
            "CPU times: user 2.22 ms, sys: 9 µs, total: 2.23 ms\n",
            "Wall time: 2.25 ms\n",
            "[0.         0.00324764 0.00649515 0.00974269 0.01299003 0.01623733\n",
            " 0.01948437 0.02273129 0.02597798 0.0292243  0.0324704  0.03571607\n",
            " 0.03896146 0.04220634 0.04545088 0.04869494 0.05193839 0.05518139\n",
            " 0.05842372 0.06166552 0.06490669 0.06814707 0.07138683 0.07462575\n",
            " 0.07786398 0.08110129 0.08433785 0.08757351 0.09080817 0.09404197\n",
            " 0.09727468 0.10050647 0.1037371  0.10696673 0.11019525 0.11342251\n",
            " 0.11664868 0.11987352 0.1230972  0.12631959 0.12954055 0.13276026\n",
            " 0.13597846 0.13919532 0.14241065 0.14562455 0.14883684 0.15204766\n",
            " 0.15525687 0.15846436]\n",
            "[0.         0.00324764 0.00649515 0.00974269 0.01299003 0.01623733\n",
            " 0.01948437 0.02273129 0.02597798 0.0292243  0.0324704  0.03571607\n",
            " 0.03896146 0.04220634 0.04545088 0.04869494 0.05193839 0.05518139\n",
            " 0.05842372 0.06166552 0.06490669 0.06814707 0.07138683 0.07462575\n",
            " 0.07786398 0.08110129 0.08433785 0.08757351 0.09080817 0.09404197\n",
            " 0.09727468 0.10050647 0.1037371  0.10696673 0.11019525 0.11342251\n",
            " 0.11664868 0.11987352 0.1230972  0.12631959 0.12954055 0.13276026\n",
            " 0.13597846 0.13919532 0.14241065 0.14562455 0.14883684 0.15204766\n",
            " 0.15525687 0.15846436]\n",
            "[1.         0.9999861  0.99996185 0.99992746 0.9998825  0.9998275\n",
            " 0.9997622  0.9996865  0.9996004  0.99950415 0.9993975  0.99928045\n",
            " 0.99915326 0.99901557 0.9988676  0.9987093  0.99854064 0.9983617\n",
            " 0.99817234 0.9979727  0.9977627  0.9975425  0.9973117  0.99707067\n",
            " 0.9968194  0.99655765 0.99628556 0.9960032  0.99571043 0.9954072\n",
            " 0.9950938  0.99477005 0.99443597 0.9940914  0.9937365  0.9933713\n",
            " 0.9929958  0.9926099  0.9922136  0.9918071  0.99139017 0.99096286\n",
            " 0.99052536 0.9900773  0.9896191  0.9891505  0.9886716  0.9881823\n",
            " 0.98768276 0.9871728 ]\n",
            "[0.         0.00324764 0.00649515 0.00974269 0.01299003 0.01623733\n",
            " 0.01948437 0.02273129 0.02597798 0.0292243  0.0324704  0.03571607\n",
            " 0.03896146 0.04220634 0.04545088 0.04869494 0.05193839 0.05518139\n",
            " 0.05842372 0.06166552 0.06490669 0.06814707 0.07138683 0.07462575\n",
            " 0.07786398 0.08110129 0.08433785 0.08757351 0.09080817 0.09404197\n",
            " 0.09727468 0.10050647 0.1037371  0.10696673 0.11019525 0.11342251\n",
            " 0.11664868 0.11987352 0.1230972  0.12631959 0.12954055 0.13276026\n",
            " 0.13597846 0.13919532 0.14241065 0.14562455 0.14883684 0.15204766\n",
            " 0.15525687 0.15846436]\n"
          ]
        },
        {
          "output_type": "display_data",
          "data": {
            "image/png": "[encoded data removed]",
            "text/plain": [
              "<Figure size 432x288 with 1 Axes>"
            ]
          },
          "metadata": {
            "needs_background": "light"
          }
        }
      ]
    },
    {
      "cell_type": "markdown",
      "source": [
        "trying with jax"
      ],
      "metadata": {
        "id": "sPT9DoAafLYv"
      }
    },
    {
      "cell_type": "code",
      "source": [
        "import jax.numpy as jnp\n",
        "%time jnp.sin(3.14159*.5)\n",
        "%time sin(3.14159*.5)"
      ],
      "metadata": {
        "colab": {
          "base_uri": "https://localhost:8080/"
        },
        "id": "0sJ293QvZHHk",
        "outputId": "ea01a4e2-146e-4cbf-ec25-7c25898691e8"
      },
      "execution_count": 33,
      "outputs": [
        {
          "output_type": "stream",
          "name": "stdout",
          "text": [
            "CPU times: user 82 µs, sys: 9 µs, total: 91 µs\n",
            "Wall time: 95.8 µs\n",
            "1.0\n",
            "CPU times: user 944 µs, sys: 0 ns, total: 944 µs\n",
            "Wall time: 956 µs\n"
          ]
        },
        {
          "output_type": "execute_result",
          "data": {
            "text/plain": [
              "DeviceArray(1., dtype=float32, weak_type=True)"
            ]
          },
          "metadata": {},
          "execution_count": 33
        }
      ]
    },
    {
      "cell_type": "code",
      "source": [
        "import jax.numpy as jnp\n",
        "from jax import random\n",
        "import matplotlib.pyplot as plt\n",
        "\n",
        "xs = random.normal(0,shape=(100,))\n",
        "noise = random.normal(scale=0.1, shape=(100,))\n",
        "ys = xs * 3 - 1 + noise\n",
        "\n",
        "plt.scatter(jnp.sin(ys), sin(ys));"
      ],
      "metadata": {
        "colab": {
          "base_uri": "https://localhost:8080/",
          "height": 398
        },
        "id": "QZukHOZcf4YR",
        "outputId": "5cd571ed-5b2d-4516-ec97-4219084b58db"
      },
      "execution_count": 45,
      "outputs": [
        {
          "output_type": "error",
          "ename": "TypeError",
          "evalue": "ignored",
          "traceback": [
            "\u001b[0;31m---------------------------------------------------------------------------\u001b[0m",
            "\u001b[0;31mTypeError\u001b[0m                                 Traceback (most recent call last)",
            "\u001b[0;32m<ipython-input-45-1019736b8d83>\u001b[0m in \u001b[0;36m<module>\u001b[0;34m()\u001b[0m\n\u001b[1;32m      3\u001b[0m \u001b[0;32mimport\u001b[0m \u001b[0mmatplotlib\u001b[0m\u001b[0;34m.\u001b[0m\u001b[0mpyplot\u001b[0m \u001b[0;32mas\u001b[0m \u001b[0mplt\u001b[0m\u001b[0;34m\u001b[0m\u001b[0;34m\u001b[0m\u001b[0m\n\u001b[1;32m      4\u001b[0m \u001b[0;34m\u001b[0m\u001b[0m\n\u001b[0;32m----> 5\u001b[0;31m \u001b[0mxs\u001b[0m \u001b[0;34m=\u001b[0m \u001b[0mrandom\u001b[0m\u001b[0;34m.\u001b[0m\u001b[0mnormal\u001b[0m\u001b[0;34m(\u001b[0m\u001b[0;36m0\u001b[0m\u001b[0;34m,\u001b[0m\u001b[0mshape\u001b[0m\u001b[0;34m=\u001b[0m\u001b[0;34m(\u001b[0m\u001b[0;36m100\u001b[0m\u001b[0;34m,\u001b[0m\u001b[0;34m)\u001b[0m\u001b[0;34m)\u001b[0m\u001b[0;34m\u001b[0m\u001b[0;34m\u001b[0m\u001b[0m\n\u001b[0m\u001b[1;32m      6\u001b[0m \u001b[0mnoise\u001b[0m \u001b[0;34m=\u001b[0m \u001b[0mrandom\u001b[0m\u001b[0;34m.\u001b[0m\u001b[0mnormal\u001b[0m\u001b[0;34m(\u001b[0m\u001b[0mscale\u001b[0m\u001b[0;34m=\u001b[0m\u001b[0;36m0.1\u001b[0m\u001b[0;34m,\u001b[0m \u001b[0mshape\u001b[0m\u001b[0;34m=\u001b[0m\u001b[0;34m(\u001b[0m\u001b[0;36m100\u001b[0m\u001b[0;34m,\u001b[0m\u001b[0;34m)\u001b[0m\u001b[0;34m)\u001b[0m\u001b[0;34m\u001b[0m\u001b[0;34m\u001b[0m\u001b[0m\n\u001b[1;32m      7\u001b[0m \u001b[0mys\u001b[0m \u001b[0;34m=\u001b[0m \u001b[0mxs\u001b[0m \u001b[0;34m*\u001b[0m \u001b[0;36m3\u001b[0m \u001b[0;34m-\u001b[0m \u001b[0;36m1\u001b[0m \u001b[0;34m+\u001b[0m \u001b[0mnoise\u001b[0m\u001b[0;34m\u001b[0m\u001b[0;34m\u001b[0m\u001b[0m\n",
            "\u001b[0;32m/usr/local/lib/python3.7/dist-packages/jax/_src/random.py\u001b[0m in \u001b[0;36mnormal\u001b[0;34m(key, shape, dtype)\u001b[0m\n\u001b[1;32m    513\u001b[0m     \u001b[0mA\u001b[0m \u001b[0mrandom\u001b[0m \u001b[0marray\u001b[0m \u001b[0;32mwith\u001b[0m \u001b[0mthe\u001b[0m \u001b[0mspecified\u001b[0m \u001b[0mshape\u001b[0m \u001b[0;32mand\u001b[0m \u001b[0mdtype\u001b[0m\u001b[0;34m.\u001b[0m\u001b[0;34m\u001b[0m\u001b[0;34m\u001b[0m\u001b[0m\n\u001b[1;32m    514\u001b[0m   \"\"\"\n\u001b[0;32m--> 515\u001b[0;31m   \u001b[0mkey\u001b[0m\u001b[0;34m,\u001b[0m \u001b[0m_\u001b[0m \u001b[0;34m=\u001b[0m \u001b[0m_check_prng_key\u001b[0m\u001b[0;34m(\u001b[0m\u001b[0mkey\u001b[0m\u001b[0;34m)\u001b[0m\u001b[0;34m\u001b[0m\u001b[0;34m\u001b[0m\u001b[0m\n\u001b[0m\u001b[1;32m    516\u001b[0m   \u001b[0;32mif\u001b[0m \u001b[0;32mnot\u001b[0m \u001b[0mdtypes\u001b[0m\u001b[0;34m.\u001b[0m\u001b[0missubdtype\u001b[0m\u001b[0;34m(\u001b[0m\u001b[0mdtype\u001b[0m\u001b[0;34m,\u001b[0m \u001b[0mnp\u001b[0m\u001b[0;34m.\u001b[0m\u001b[0minexact\u001b[0m\u001b[0;34m)\u001b[0m\u001b[0;34m:\u001b[0m\u001b[0;34m\u001b[0m\u001b[0;34m\u001b[0m\u001b[0m\n\u001b[1;32m    517\u001b[0m     raise ValueError(f\"dtype argument to `normal` must be a float or complex dtype, \"\n",
            "\u001b[0;32m/usr/local/lib/python3.7/dist-packages/jax/_src/random.py\u001b[0m in \u001b[0;36m_check_prng_key\u001b[0;34m(key)\u001b[0m\n\u001b[1;32m     73\u001b[0m           \u001b[0;34m'Assuming valid threefry2x32 key for now.'\u001b[0m\u001b[0;34m,\u001b[0m\u001b[0;34m\u001b[0m\u001b[0;34m\u001b[0m\u001b[0m\n\u001b[1;32m     74\u001b[0m           FutureWarning)\n\u001b[0;32m---> 75\u001b[0;31m     \u001b[0;32mreturn\u001b[0m \u001b[0mprng\u001b[0m\u001b[0;34m.\u001b[0m\u001b[0mPRNGKeyArray\u001b[0m\u001b[0;34m(\u001b[0m\u001b[0m_get_default_prng_impl\u001b[0m\u001b[0;34m(\u001b[0m\u001b[0;34m)\u001b[0m\u001b[0;34m,\u001b[0m \u001b[0mkey\u001b[0m\u001b[0;34m)\u001b[0m\u001b[0;34m,\u001b[0m \u001b[0;32mTrue\u001b[0m\u001b[0;34m\u001b[0m\u001b[0;34m\u001b[0m\u001b[0m\n\u001b[0m\u001b[1;32m     76\u001b[0m   \u001b[0;32melse\u001b[0m\u001b[0;34m:\u001b[0m\u001b[0;34m\u001b[0m\u001b[0;34m\u001b[0m\u001b[0m\n\u001b[1;32m     77\u001b[0m     \u001b[0;32mraise\u001b[0m \u001b[0mTypeError\u001b[0m\u001b[0;34m(\u001b[0m\u001b[0;34mf'unexpected PRNG key type {type(key)}'\u001b[0m\u001b[0;34m)\u001b[0m\u001b[0;34m\u001b[0m\u001b[0;34m\u001b[0m\u001b[0m\n",
            "\u001b[0;32m/usr/local/lib/python3.7/dist-packages/jax/_src/prng.py\u001b[0m in \u001b[0;36m__init__\u001b[0;34m(self, impl, key_data)\u001b[0m\n\u001b[1;32m    105\u001b[0m         not _is_prng_key_data(impl, key_data)):\n\u001b[1;32m    106\u001b[0m       raise TypeError(\n\u001b[0;32m--> 107\u001b[0;31m           f'Invalid PRNG key data {key_data} for PRNG implementation {impl}')\n\u001b[0m\u001b[1;32m    108\u001b[0m     \u001b[0mself\u001b[0m\u001b[0;34m.\u001b[0m\u001b[0mimpl\u001b[0m \u001b[0;34m=\u001b[0m \u001b[0mimpl\u001b[0m\u001b[0;34m\u001b[0m\u001b[0;34m\u001b[0m\u001b[0m\n\u001b[1;32m    109\u001b[0m     \u001b[0mself\u001b[0m\u001b[0;34m.\u001b[0m\u001b[0m_keys\u001b[0m \u001b[0;34m=\u001b[0m \u001b[0mkey_data\u001b[0m\u001b[0;34m\u001b[0m\u001b[0;34m\u001b[0m\u001b[0m\n",
            "\u001b[0;31mTypeError\u001b[0m: Invalid PRNG key data 0 for PRNG implementation PRNGImpl(key_shape=(2,), seed=<function threefry_seed at 0x7fa847e8cef0>, split=<function threefry_split at 0x7fa847e8e950>, random_bits=<CompiledFunction object at 0x7fa847ef78c0>, fold_in=<function threefry_fold_in at 0x7fa847e8ed40>)"
          ]
        }
      ]
    },
    {
      "cell_type": "code",
      "source": [
        "%time\n"
      ],
      "metadata": {
        "colab": {
          "base_uri": "https://localhost:8080/"
        },
        "id": "I5NiB-k6Yy-K",
        "outputId": "b2438d97-7d57-4128-d589-77067ec6dec3"
      },
      "execution_count": 5,
      "outputs": [
        {
          "output_type": "stream",
          "name": "stdout",
          "text": [
            "CPU times: user 2 µs, sys: 0 ns, total: 2 µs\n",
            "Wall time: 5.48 µs\n"
          ]
        }
      ]
    },
    {
      "cell_type": "code",
      "source": [
        "v=linspace(0,2*pi,50)\n",
        "print(v)"
      ],
      "metadata": {
        "colab": {
          "base_uri": "https://localhost:8080/",
          "height": 183
        },
        "id": "dpAEHR1Jg4ZT",
        "outputId": "5cd03064-3717-47f2-b1d1-f962e138b53e"
      },
      "execution_count": null,
      "outputs": [
        {
          "output_type": "error",
          "ename": "NameError",
          "evalue": "ignored",
          "traceback": [
            "\u001b[0;31m---------------------------------------------------------------------------\u001b[0m",
            "\u001b[0;31mNameError\u001b[0m                                 Traceback (most recent call last)",
            "\u001b[0;32m<ipython-input-2-ee804d65347a>\u001b[0m in \u001b[0;36m<module>\u001b[0;34m()\u001b[0m\n\u001b[0;32m----> 1\u001b[0;31m \u001b[0mv\u001b[0m\u001b[0;34m=\u001b[0m\u001b[0mlinspace\u001b[0m\u001b[0;34m(\u001b[0m\u001b[0;36m0\u001b[0m\u001b[0;34m,\u001b[0m\u001b[0;36m2\u001b[0m\u001b[0;34m*\u001b[0m\u001b[0mpi\u001b[0m\u001b[0;34m,\u001b[0m\u001b[0;36m50\u001b[0m\u001b[0;34m)\u001b[0m\u001b[0;34m\u001b[0m\u001b[0;34m\u001b[0m\u001b[0m\n\u001b[0m\u001b[1;32m      2\u001b[0m \u001b[0mprint\u001b[0m\u001b[0;34m(\u001b[0m\u001b[0mv\u001b[0m\u001b[0;34m)\u001b[0m\u001b[0;34m\u001b[0m\u001b[0;34m\u001b[0m\u001b[0m\n",
            "\u001b[0;31mNameError\u001b[0m: name 'linspace' is not defined"
          ]
        }
      ]
    },
    {
      "cell_type": "markdown",
      "source": [
        "original c++ code"
      ],
      "metadata": {
        "id": "xD7RAUKBfFqO"
      }
    },
    {
      "cell_type": "code",
      "execution_count": null,
      "metadata": {
        "colab": {
          "base_uri": "https://localhost:8080/"
        },
        "id": "drit9bG0ftm-",
        "outputId": "15e7344b-2f77-4d26-98df-e7ddd98732e5"
      },
      "outputs": [
        {
          "output_type": "stream",
          "name": "stdout",
          "text": [
            "Overwriting filename.cpp\n"
          ]
        }
      ],
      "source": [
        "%%writefile filename.cpp\n",
        "\n",
        "#include<stdio.h>\n",
        "\n",
        "int main(void) {\n",
        "    // Polynomial approximation of degree 5 for\n",
        "    // sin(x * 2 * pi) in the range [-1/4, 1/4]\n",
        "    static float sin5q(float x) {\n",
        "        // A * x + B * x^3 + C * x^5\n",
        "        // Exact at x = 0, 1/12, 1/6, 1/4, and their negatives,\n",
        "        // which correspond to x * 2 * pi = 0, pi/6, pi/3, pi/2\n",
        "        constexpr float A = 6.28230858 f;\n",
        "        constexpr float B = -41.1693687 f;\n",
        "        constexpr float C = 74.4388885 f;\n",
        "        float x2 = x * x;\n",
        "        return x * (A + x2 * (B + x2 * C));\n",
        "    }\n",
        "    float sin(float x) {\n",
        "        constexpr float pi2 = 1 / (2 * 3.1415926535 f);\n",
        "        // Range reduction and mirroring\n",
        "        float x_2 = 0.25 f - x * pi2;\n",
        "        float z = 0.25 f - abs(x_2 - round(x_2));\n",
        "        return sin5q(z);\n",
        "    }\n",
        "    float cos(float x) {\n",
        "        constexpr float pi2 = 1 / (2 * 3.1415926535 f);\n",
        "        // Range reduction and mirroring\n",
        "        float x_2 = x * pi2;\n",
        "        float z = 0.25 f - abs(x_2 - round(x_2));\n",
        "        return sin5q(z);\n",
        "    }\n",
        "    printf(\"hello world\");\n",
        "    return 0;\n",
        "}"
      ]
    },
    {
      "cell_type": "code",
      "source": [
        "%%shell\n",
        "g++ filename.cpp -o output\n",
        "./output"
      ],
      "metadata": {
        "colab": {
          "base_uri": "https://localhost:8080/",
          "height": 520
        },
        "id": "IMxj9aFUrzWC",
        "outputId": "122da2a1-552c-422a-8635-e44612f0c80f"
      },
      "execution_count": null,
      "outputs": [
        {
          "output_type": "stream",
          "name": "stdout",
          "text": [
            "\u001b[01m\u001b[Kfilename.cpp:\u001b[m\u001b[K In function ‘\u001b[01m\u001b[Kint main()\u001b[m\u001b[K’:\n",
            "\u001b[01m\u001b[Kfilename.cpp:7:33:\u001b[m\u001b[K \u001b[01;31m\u001b[Kerror: \u001b[m\u001b[Ka function-definition is not allowed here before ‘\u001b[01m\u001b[K{\u001b[m\u001b[K’ token\n",
            "     static float sin5q(float x) \u001b[01;31m\u001b[K{\u001b[m\u001b[K\n",
            "                                 \u001b[01;31m\u001b[K^\u001b[m\u001b[K\n",
            "\u001b[01m\u001b[Kfilename.cpp:17:24:\u001b[m\u001b[K \u001b[01;31m\u001b[Kerror: \u001b[m\u001b[Ka function-definition is not allowed here before ‘\u001b[01m\u001b[K{\u001b[m\u001b[K’ token\n",
            "     float sin(float x) \u001b[01;31m\u001b[K{\u001b[m\u001b[K\n",
            "                        \u001b[01;31m\u001b[K^\u001b[m\u001b[K\n",
            "\u001b[01m\u001b[Kfilename.cpp:24:24:\u001b[m\u001b[K \u001b[01;31m\u001b[Kerror: \u001b[m\u001b[Ka function-definition is not allowed here before ‘\u001b[01m\u001b[K{\u001b[m\u001b[K’ token\n",
            "     float cos(float x) \u001b[01;31m\u001b[K{\u001b[m\u001b[K\n",
            "                        \u001b[01;31m\u001b[K^\u001b[m\u001b[K\n",
            "/bin/bash: line 1: ./output: No such file or directory\n"
          ]
        },
        {
          "output_type": "error",
          "ename": "CalledProcessError",
          "evalue": "ignored",
          "traceback": [
            "\u001b[0;31m---------------------------------------------------------------------------\u001b[0m",
            "\u001b[0;31mCalledProcessError\u001b[0m                        Traceback (most recent call last)",
            "\u001b[0;32m<ipython-input-7-2454a952051d>\u001b[0m in \u001b[0;36m<module>\u001b[0;34m()\u001b[0m\n\u001b[0;32m----> 1\u001b[0;31m \u001b[0mget_ipython\u001b[0m\u001b[0;34m(\u001b[0m\u001b[0;34m)\u001b[0m\u001b[0;34m.\u001b[0m\u001b[0mrun_cell_magic\u001b[0m\u001b[0;34m(\u001b[0m\u001b[0;34m'shell'\u001b[0m\u001b[0;34m,\u001b[0m \u001b[0;34m''\u001b[0m\u001b[0;34m,\u001b[0m \u001b[0;34m'g++ filename.cpp -o output\\n./output'\u001b[0m\u001b[0;34m)\u001b[0m\u001b[0;34m\u001b[0m\u001b[0;34m\u001b[0m\u001b[0m\n\u001b[0m",
            "\u001b[0;32m/usr/local/lib/python3.7/dist-packages/IPython/core/interactiveshell.py\u001b[0m in \u001b[0;36mrun_cell_magic\u001b[0;34m(self, magic_name, line, cell)\u001b[0m\n\u001b[1;32m   2115\u001b[0m             \u001b[0mmagic_arg_s\u001b[0m \u001b[0;34m=\u001b[0m \u001b[0mself\u001b[0m\u001b[0;34m.\u001b[0m\u001b[0mvar_expand\u001b[0m\u001b[0;34m(\u001b[0m\u001b[0mline\u001b[0m\u001b[0;34m,\u001b[0m \u001b[0mstack_depth\u001b[0m\u001b[0;34m)\u001b[0m\u001b[0;34m\u001b[0m\u001b[0;34m\u001b[0m\u001b[0m\n\u001b[1;32m   2116\u001b[0m             \u001b[0;32mwith\u001b[0m \u001b[0mself\u001b[0m\u001b[0;34m.\u001b[0m\u001b[0mbuiltin_trap\u001b[0m\u001b[0;34m:\u001b[0m\u001b[0;34m\u001b[0m\u001b[0;34m\u001b[0m\u001b[0m\n\u001b[0;32m-> 2117\u001b[0;31m                 \u001b[0mresult\u001b[0m \u001b[0;34m=\u001b[0m \u001b[0mfn\u001b[0m\u001b[0;34m(\u001b[0m\u001b[0mmagic_arg_s\u001b[0m\u001b[0;34m,\u001b[0m \u001b[0mcell\u001b[0m\u001b[0;34m)\u001b[0m\u001b[0;34m\u001b[0m\u001b[0;34m\u001b[0m\u001b[0m\n\u001b[0m\u001b[1;32m   2118\u001b[0m             \u001b[0;32mreturn\u001b[0m \u001b[0mresult\u001b[0m\u001b[0;34m\u001b[0m\u001b[0;34m\u001b[0m\u001b[0m\n\u001b[1;32m   2119\u001b[0m \u001b[0;34m\u001b[0m\u001b[0m\n",
            "\u001b[0;32m/usr/local/lib/python3.7/dist-packages/google/colab/_system_commands.py\u001b[0m in \u001b[0;36m_shell_cell_magic\u001b[0;34m(args, cmd)\u001b[0m\n\u001b[1;32m    111\u001b[0m   \u001b[0mresult\u001b[0m \u001b[0;34m=\u001b[0m \u001b[0m_run_command\u001b[0m\u001b[0;34m(\u001b[0m\u001b[0mcmd\u001b[0m\u001b[0;34m,\u001b[0m \u001b[0mclear_streamed_output\u001b[0m\u001b[0;34m=\u001b[0m\u001b[0;32mFalse\u001b[0m\u001b[0;34m)\u001b[0m\u001b[0;34m\u001b[0m\u001b[0;34m\u001b[0m\u001b[0m\n\u001b[1;32m    112\u001b[0m   \u001b[0;32mif\u001b[0m \u001b[0;32mnot\u001b[0m \u001b[0mparsed_args\u001b[0m\u001b[0;34m.\u001b[0m\u001b[0mignore_errors\u001b[0m\u001b[0;34m:\u001b[0m\u001b[0;34m\u001b[0m\u001b[0;34m\u001b[0m\u001b[0m\n\u001b[0;32m--> 113\u001b[0;31m     \u001b[0mresult\u001b[0m\u001b[0;34m.\u001b[0m\u001b[0mcheck_returncode\u001b[0m\u001b[0;34m(\u001b[0m\u001b[0;34m)\u001b[0m\u001b[0;34m\u001b[0m\u001b[0;34m\u001b[0m\u001b[0m\n\u001b[0m\u001b[1;32m    114\u001b[0m   \u001b[0;32mreturn\u001b[0m \u001b[0mresult\u001b[0m\u001b[0;34m\u001b[0m\u001b[0;34m\u001b[0m\u001b[0m\n\u001b[1;32m    115\u001b[0m \u001b[0;34m\u001b[0m\u001b[0m\n",
            "\u001b[0;32m/usr/local/lib/python3.7/dist-packages/google/colab/_system_commands.py\u001b[0m in \u001b[0;36mcheck_returncode\u001b[0;34m(self)\u001b[0m\n\u001b[1;32m    137\u001b[0m     \u001b[0;32mif\u001b[0m \u001b[0mself\u001b[0m\u001b[0;34m.\u001b[0m\u001b[0mreturncode\u001b[0m\u001b[0;34m:\u001b[0m\u001b[0;34m\u001b[0m\u001b[0;34m\u001b[0m\u001b[0m\n\u001b[1;32m    138\u001b[0m       raise subprocess.CalledProcessError(\n\u001b[0;32m--> 139\u001b[0;31m           returncode=self.returncode, cmd=self.args, output=self.output)\n\u001b[0m\u001b[1;32m    140\u001b[0m \u001b[0;34m\u001b[0m\u001b[0m\n\u001b[1;32m    141\u001b[0m   \u001b[0;32mdef\u001b[0m \u001b[0m_repr_pretty_\u001b[0m\u001b[0;34m(\u001b[0m\u001b[0mself\u001b[0m\u001b[0;34m,\u001b[0m \u001b[0mp\u001b[0m\u001b[0;34m,\u001b[0m \u001b[0mcycle\u001b[0m\u001b[0;34m)\u001b[0m\u001b[0;34m:\u001b[0m  \u001b[0;31m# pylint:disable=unused-argument\u001b[0m\u001b[0;34m\u001b[0m\u001b[0;34m\u001b[0m\u001b[0m\n",
            "\u001b[0;31mCalledProcessError\u001b[0m: Command 'g++ filename.cpp -o output\n./output' returned non-zero exit status 127."
          ]
        }
      ]
    }
  ]
}